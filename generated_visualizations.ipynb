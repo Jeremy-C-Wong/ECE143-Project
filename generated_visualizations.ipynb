{
 "cells": [
  {
   "attachments": {},
   "cell_type": "markdown",
   "metadata": {},
   "source": [
    "### Key Performance Indicators (KPIs) Graphed Over Time Using Various Parameters\n",
    "\n",
    "Parameters include the streaming platform (Amazon Prime and Netflix), the mobility status (static and driving), and the type of show (live-action and animated).\n",
    "\n",
    "First, import functions from `data_plot.py` and initialize variables with file paths."
   ]
  },
  {
   "cell_type": "code",
   "execution_count": null,
   "metadata": {},
   "outputs": [],
   "source": [
    "from data_plot import plot_df\n",
    "\n",
    "fpath1 = \"./5Gdataset-master/Amazon_Prime/Static/Season3-TheExpanse/combined.csv\"\n",
    "fpath2 = \"./5Gdataset-master/Netflix/Static/Season3-StrangerThings/combined.csv\"\n",
    "\n",
    "fpath3 = \"./5Gdataset-master/Amazon_Prime/Driving/Season3-TheExpanse/combined.csv\"\n",
    "fpath4 = \"./5Gdataset-master/Netflix/Driving/Season3-StrangerThings/combined.csv\"\n",
    "\n",
    "fpath5 = \"./5Gdataset-master/Netflix/Static/animated-RickandMorty/combined.csv\"\n",
    "fpath6 = \"./5Gdataset-master/Netflix/Driving/animated-RickandMorty/combined.csv\""
   ]
  },
  {
   "attachments": {},
   "cell_type": "markdown",
   "metadata": {},
   "source": [
    "Plots for download bitrate (DL_bitrate) over time:\n",
    "1. Static: Amazon Prime vs. Netflix\n",
    "2. Driving: Amazon Prime vs. Netflix\n",
    "3. Amazon Prime: Static vs. Driving\n",
    "4. Netflix: Static vs. Driving"
   ]
  },
  {
   "cell_type": "code",
   "execution_count": null,
   "metadata": {},
   "outputs": [],
   "source": [
    "plot_df(fpath1, fpath2, subplots=True, show=True)  \n",
    "plot_df(fpath3, fpath4, subplots=True, show=True)  \n",
    "plot_df(fpath1, fpath3, show=True)                 \n",
    "plot_df(fpath2, fpath4, show=True)                 "
   ]
  },
  {
   "attachments": {},
   "cell_type": "markdown",
   "metadata": {},
   "source": [
    "Plots for reference signal received quality (RSRQ) over time:\n",
    "1. Static: Amazon Prime vs. Netflix\n",
    "2. Driving: Amazon Prime vs. Netflix\n",
    "3. Amazon Prime: Static vs. Driving\n",
    "4. Netflix: Static vs. Driving"
   ]
  },
  {
   "cell_type": "code",
   "execution_count": null,
   "metadata": {},
   "outputs": [],
   "source": [
    "# RSRQ\n",
    "plot_df(fpath1, fpath2, y_axis='RSRQ', show=True)\n",
    "plot_df(fpath3, fpath4, y_axis='RSRQ', show=True)\n",
    "plot_df(fpath1, fpath3, y_axis='RSRQ', show=True)\n",
    "plot_df(fpath2, fpath4, y_axis='RSRQ', show=True)"
   ]
  },
  {
   "attachments": {},
   "cell_type": "markdown",
   "metadata": {},
   "source": [
    "Plots for reference signal received power (RSRP) over time:\n",
    "1. Static: Amazon Prime vs. Netflix\n",
    "2. Driving: Amazon Prime vs. Netflix\n",
    "3. Amazon Prime: Static vs. Driving\n",
    "4. Netflix: Static vs. Driving"
   ]
  },
  {
   "cell_type": "code",
   "execution_count": null,
   "metadata": {},
   "outputs": [],
   "source": [
    "# RSRP\n",
    "plot_df(fpath1, fpath2, y_axis='RSRP', show=True)\n",
    "plot_df(fpath3, fpath4, y_axis='RSRP', show=True)\n",
    "plot_df(fpath1, fpath3, y_axis='RSRP', show=True)\n",
    "plot_df(fpath2, fpath4, y_axis='RSRP', show=True)"
   ]
  },
  {
   "attachments": {},
   "cell_type": "markdown",
   "metadata": {},
   "source": [
    "Plots for received signal strength indicator (RSSI) over time:\n",
    "1. Static: Amazon Prime vs. Netflix\n",
    "2. Driving: Amazon Prime vs. Netflix\n",
    "3. Amazon Prime: Static vs. Driving\n",
    "4. Netflix: Static vs. Driving"
   ]
  },
  {
   "cell_type": "code",
   "execution_count": null,
   "metadata": {},
   "outputs": [],
   "source": [
    "# RSSI\n",
    "plot_df(fpath1, fpath2, y_axis='RSSI', show=True)\n",
    "plot_df(fpath3, fpath4, y_axis='RSSI', show=True)\n",
    "plot_df(fpath1, fpath3, y_axis='RSSI', show=True)\n",
    "plot_df(fpath2, fpath4, y_axis='RSSI', show=True)"
   ]
  }
 ],
 "metadata": {
  "kernelspec": {
   "display_name": "Python 3",
   "language": "python",
   "name": "python3"
  },
  "language_info": {
   "codemirror_mode": {
    "name": "ipython",
    "version": 3
   },
   "file_extension": ".py",
   "mimetype": "text/x-python",
   "name": "python",
   "nbconvert_exporter": "python",
   "pygments_lexer": "ipython3",
   "version": "3.10.10"
  },
  "orig_nbformat": 4,
  "vscode": {
   "interpreter": {
    "hash": "f33002691316fb1be457bd17bb1a60dcb208a40acf32a5e0d8d3f2d4298d4d92"
   }
  }
 },
 "nbformat": 4,
 "nbformat_minor": 2
}
